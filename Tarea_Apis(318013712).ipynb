{
  "cells": [
    {
      "cell_type": "markdown",
      "metadata": {
        "id": "GRfcPjNwcK1b"
      },
      "source": [
        "Alumna : Ju'arez Torres Karla Romina\n",
        "\n",
        "Profesor : Francisco Pérez Carbajal\n",
        "\n",
        "Materia : Proyecto 1\n"
      ]
    },
    {
      "cell_type": "code",
      "execution_count": 1,
      "metadata": {
        "colab": {
          "base_uri": "https://localhost:8080/"
        },
        "id": "o_mM7dlC5S-F",
        "outputId": "52535051-5191-4f5c-965b-f939666ca42e"
      },
      "outputs": [
        {
          "name": "stdout",
          "output_type": "stream",
          "text": [
            "Defaulting to user installation because normal site-packages is not writeable\n",
            "Requirement already satisfied: flexpolyline in /home/kriptonita/.local/lib/python3.12/site-packages (0.1.0)\n",
            "Note: you may need to restart the kernel to use updated packages.\n"
          ]
        }
      ],
      "source": [
        "pip install flexpolyline"
      ]
    },
    {
      "cell_type": "code",
      "execution_count": 1,
      "metadata": {
        "id": "avB4LixW5vKa"
      },
      "outputs": [
        {
          "name": "stderr",
          "output_type": "stream",
          "text": [
            "Matplotlib is building the font cache; this may take a moment.\n"
          ]
        }
      ],
      "source": [
        "# Biblioteca para realizar solicitudes HTTP\n",
        "import requests\n",
        "\n",
        "# Manipulación de datos\n",
        "import pandas as pd\n",
        "\n",
        "# Imprime estructuras de datos complejas de manera legible\n",
        "import pprint\n",
        "\n",
        "# Crea mapas interactivos\n",
        "import folium\n",
        "\n",
        "# Decodifica polilíneas en formato FlexPolyline\n",
        "import flexpolyline as fp\n",
        "\n",
        "# Visualización de datos estadísticos\n",
        "import seaborn as sns\n",
        "\n",
        "# Tiempo\n",
        "import pytz\n",
        "from datetime import datetime\n",
        "\n",
        "# Manipulación de datos numéricos\n",
        "import numpy as np\n",
        "\n",
        "# Visualiza las rutas\n",
        "import IPython\n",
        "# Random\n",
        "import random"
      ]
    },
    {
      "cell_type": "code",
      "execution_count": 2,
      "metadata": {
        "id": "EcksOT_85vKe"
      },
      "outputs": [],
      "source": [
        "def utctodate(utc):# Obtener la zona horaria local\n",
        "    local_tz = pytz.timezone('America/Mexico_City')\n",
        "\n",
        "    # Convertir el timestamp a datetime\n",
        "    utc_time = datetime.fromtimestamp(utc, pytz.utc)\n",
        "\n",
        "    # Convertir de UTC a la zona horaria local\n",
        "    local_time = utc_time.astimezone(local_tz)\n",
        "\n",
        "    # Formatear la fecha y hora\n",
        "    formatted_time = local_time.strftime('%Y-%m-%d %H:%M:%S')\n",
        "    return formatted_time"
      ]
    },
    {
      "cell_type": "code",
      "execution_count": 3,
      "metadata": {
        "collapsed": true,
        "id": "4SXtobGhBnyB"
      },
      "outputs": [],
      "source": [
        "URL = 'https://gbfs.mex.lyftbikes.com/gbfs/en/station_information.json'\n",
        "r = requests.get(URL)"
      ]
    },
    {
      "cell_type": "code",
      "execution_count": null,
      "metadata": {
        "colab": {
          "base_uri": "https://localhost:8080/"
        },
        "id": "jkgF3Zsvn5lB",
        "outputId": "4641ddff-d3fe-4868-d74f-0f8f6569cf93"
      },
      "outputs": [],
      "source": [
        "pprint.pprint(r.json())"
      ]
    },
    {
      "cell_type": "code",
      "execution_count": null,
      "metadata": {
        "id": "8W58wK7sB2sG"
      },
      "outputs": [],
      "source": [
        "# Define la URL donde se encuentra el archivo JSON con la información\n",
        "# de las estaciones de bicicletas\n",
        "URL = 'https://gbfs.mex.lyftbikes.com/gbfs/en/station_information.json'\n",
        "\n",
        "# Realiza una solicitud GET a la URL en formato JSON\n",
        "r = requests.get(URL)\n",
        "\n",
        "# Convierte el contenido de la respuesta a un diccionario de Python y\n",
        "# extrae la información de las estaciones\n",
        "stations_data = r.json()['data']['stations']\n",
        "\n",
        "# Convierte los datos de las estaciones en un DataFrame de Pandas\n",
        "df_stations = pd.DataFrame(stations_data)\n",
        "\n",
        "#df_stations = df_stations[df_stations['lat']!=0]\n",
        "df_stations_station_id = df_stations.station_id\n",
        "df_stations_short_name = df_stations.short_name\n",
        "df_stations_lat = df_stations.lat\n",
        "df_stations_lon = df_stations.lon\n",
        "df_stations_capacity = df_stations.capacity\n",
        "\n",
        "df_part1 = pd.concat([df_stations_station_id,df_stations_short_name,df_stations_lat,df_stations_lon,df_stations_capacity],axis=1)"
      ]
    },
    {
      "cell_type": "code",
      "execution_count": null,
      "metadata": {
        "id": "XJ8DYq935vLP"
      },
      "outputs": [],
      "source": [
        "URL = 'https://gbfs.mex.lyftbikes.com/gbfs/en/station_status.json'\n",
        "r = requests.get(URL)\n",
        "df_status_stations = pd.DataFrame(r.json()['data']['stations'])\n",
        "#df_status_stations = df_status_stations[df_status_stations['is_installed']!=0]"
      ]
    },
    {
      "cell_type": "code",
      "execution_count": null,
      "metadata": {
        "id": "aV-Rd5YSVh_4"
      },
      "outputs": [],
      "source": [
        "df_status_stations_num_bikes_available = df_status_stations.num_bikes_available\n",
        "df_status_stations_num_bikes_disabled = df_status_stations.num_bikes_disabled\n",
        "df_status_stations_num_docks_available = df_status_stations.num_docks_available\n",
        "df_status_stations_num_docks_disabled = df_status_stations.num_docks_disabled\n",
        "\n",
        "df_part2 = pd.concat([df_status_stations_num_bikes_available,df_status_stations_num_bikes_disabled,df_status_stations_num_docks_available,df_status_stations_num_docks_disabled],axis=1)"
      ]
    },
    {
      "cell_type": "code",
      "execution_count": null,
      "metadata": {
        "id": "0TV0rOSrWyJq"
      },
      "outputs": [],
      "source": [
        "last_updated_list = []\n",
        "utclu = utctodate(r.json()['last_updated'])\n",
        "for i in range(len(df_status_stations)):\n",
        "    last_updated_list.append(utclu)\n",
        "df_part3 = pd.DataFrame({'last_updated': last_updated_list})"
      ]
    },
    {
      "cell_type": "code",
      "execution_count": null,
      "metadata": {
        "colab": {
          "base_uri": "https://localhost:8080/"
        },
        "id": "BBNZMTXCjPch",
        "outputId": "0ab26029-2a26-42d6-db9b-1b1f761a660e"
      },
      "outputs": [],
      "source": [
        "print('723057d487f95517ccc17f5f7d6d2043')\n",
        "API_KEY = input(\"Please enter your OpenWeatherMap API key: \")#\n",
        "#API_KEY = 'e34c77410f818e358970a07534bb6afa'"
      ]
    },
    {
      "cell_type": "code",
      "execution_count": null,
      "metadata": {
        "id": "_vG4otB6r92L"
      },
      "outputs": [],
      "source": [
        "temp_c_list = []\n",
        "wind_speed_list = []\n",
        "humidity_list = []\n",
        "clouds_list = []"
      ]
    },
    {
      "cell_type": "code",
      "execution_count": null,
      "metadata": {
        "colab": {
          "base_uri": "https://localhost:8080/"
        },
        "collapsed": true,
        "id": "BRpA_A1pvlHi",
        "outputId": "5fb2f9a6-cbfd-454a-d974-c928716f6f0a"
      },
      "outputs": [],
      "source": [
        "i = 0\n",
        "URLWM_base = 'https://api.openweathermap.org/data/2.5/weather?lat={lat}&lon={lon}&units=metric&appid={API}'\n",
        "\n",
        "for i in range(len(df_stations_lat)):\n",
        "#for i in range(5):\n",
        "    lati = df_stations_lat[i]\n",
        "    longi = df_stations_lon[i]\n",
        "    print('Datos obtenidos para:' ,lati, longi)\n",
        "    URLWM = URLWM_base.format(lat=lati, lon=longi, API=API_KEY)\n",
        "    print(URLWM)\n",
        "    rWM = requests.get(URLWM)\n",
        "    temp_c_list.append(rWM.json()['main']['temp'])\n",
        "    wind_speed_list.append(rWM.json()['wind']['speed'])\n",
        "    humidity_list.append(rWM.json()['main']['humidity'])\n",
        "    clouds_list.append(rWM.json()['clouds']['all'])\n",
        "    print(URLWM)"
      ]
    },
    {
      "cell_type": "code",
      "execution_count": null,
      "metadata": {
        "colab": {
          "base_uri": "https://localhost:8080/"
        },
        "id": "1u1vBMZm9q69",
        "outputId": "2a1ca4b8-3433-46cd-c3a2-6d2f24a04c1b"
      },
      "outputs": [],
      "source": [
        "len(temp_c_list)"
      ]
    },
    {
      "cell_type": "code",
      "execution_count": null,
      "metadata": {
        "colab": {
          "base_uri": "https://localhost:8080/"
        },
        "id": "FZUYAW28sV5m",
        "outputId": "18a4e8ed-5070-42d4-9285-895b1d9d177a"
      },
      "outputs": [],
      "source": [
        "print(temp_c_list)\n",
        "print(wind_speed_list)\n",
        "print(humidity_list)\n",
        "print(clouds_list)"
      ]
    },
    {
      "cell_type": "code",
      "execution_count": null,
      "metadata": {
        "id": "LY89uBMI2Ddn"
      },
      "outputs": [],
      "source": [
        "df_temp_c= pd.DataFrame({'temp_c': temp_c_list})\n",
        "df_wind_kph = pd.DataFrame({'wind_kph': wind_speed_list})\n",
        "df_humidity = pd.DataFrame({'humidity': humidity_list})\n",
        "df_cloud = pd.DataFrame({'clouds': clouds_list})"
      ]
    },
    {
      "cell_type": "code",
      "execution_count": null,
      "metadata": {
        "colab": {
          "base_uri": "https://localhost:8080/",
          "height": 424
        },
        "id": "bzKxRn-m2Dvg",
        "outputId": "6f185710-74ee-416c-a794-72c8262c35c6"
      },
      "outputs": [],
      "source": [
        "df_part4 = pd.concat([df_temp_c,df_wind_kph,df_humidity,df_cloud],axis=1)\n",
        "df_part4"
      ]
    },
    {
      "cell_type": "code",
      "execution_count": null,
      "metadata": {
        "id": "-RVeg0mj2nWj"
      },
      "outputs": [],
      "source": [
        "Dataframe_final = pd.concat([df_part1,df_part2,df_part3,df_part4],axis=1)\n",
        "Dataframe_final = Dataframe_final[Dataframe_final['lat']!=0]\n",
        "#df_status_stations = df_status_stations[df_status_stations['is_installed']!=0]"
      ]
    },
    {
      "cell_type": "code",
      "execution_count": null,
      "metadata": {
        "id": "RGGKPd8p2vkn"
      },
      "outputs": [],
      "source": [
        "Dataframe_final.to_csv('Dataframe_final.csv')"
      ]
    },
    {
      "cell_type": "code",
      "execution_count": null,
      "metadata": {
        "colab": {
          "base_uri": "https://localhost:8080/"
        },
        "id": "QXNZ6O2SBPLV",
        "outputId": "e0835d8f-a51e-40c2-cdec-b7c4ee0cbe91"
      },
      "outputs": [],
      "source": [
        "avg_temp = Dataframe_final['temp_c'].mean()\n",
        "print(f\"La temperatura promedio en todas las estaciones es de: {avg_temp:.2f} degrees Celsius\")\n"
      ]
    },
    {
      "cell_type": "code",
      "execution_count": null,
      "metadata": {
        "colab": {
          "base_uri": "https://localhost:8080/",
          "height": 447
        },
        "id": "rkDkAHklAjlP",
        "outputId": "0ecfb7cf-6606-4d7a-8262-1c556b6a755d"
      },
      "outputs": [],
      "source": [
        "sns.boxplot(data=Dataframe_final[['num_bikes_available', 'num_bikes_disabled', 'num_docks_available', 'num_docks_disabled']])\n"
      ]
    },
    {
      "cell_type": "code",
      "execution_count": null,
      "metadata": {
        "id": "DctthrPndbvr"
      },
      "outputs": [],
      "source": [
        "# Análisis de los boxplots\n",
        "\n",
        "# Mediana:\n",
        "# - num_bikes_available: La mediana se encuentra alrededor de 3 bicicletas disponibles.\n",
        "# - num_bikes_disabled: La mediana indica que típicamente hay 0 bicicletas deshabilitadas.\n",
        "# - num_docks_available: La mediana muestra alrededor de 7 espacios disponibles.\n",
        "# - num_docks_disabled: La mediana sugiere que usualmente hay 0 espacios deshabilitados.\n",
        "\n",
        "# Dispersión:\n",
        "# - num_bikes_available: Los datos muestran una dispersión considerable, con un rango intercuartil amplio. Esto indica una variabilidad en la cantidad de bicicletas disponibles en las estaciones.\n",
        "# - num_bikes_disabled: La dispersión es menor, concentrándose en valores bajos.\n",
        "# - num_docks_available: La dispersión es moderada, con un rango intercuartil más estrecho que  el de bicicletas disponibles.\n",
        "# - num_docks_disabled: La dispersión es mínima, similar a la de bicicletas deshabilitadas.\n",
        "\n",
        "# Valores atípicos:\n",
        "# - num_bikes_available: Se observan algunos valores atípicos superiores, indicando estaciones con una cantidad significativamente mayor de bicicletas disponibles en comparación con la mayoría.\n",
        "# - num_docks_available: También se presentan valores atípicos superiores, representando estaciones con una mayor cantidad de espacios disponibles.\n",
        "\n",
        "# Conclusiones:\n",
        "# - En general, las estaciones tienden a tener una cantidad moderada de bicicletas disponibles y espacios libres.\n",
        "# - La variabilidad en la cantidad de bicicletas disponibles sugiere que algunas estaciones experimentan una mayor demanda o reabastecimiento.\n",
        "# - La presencia de valores atípicos indica que existen estaciones con características distintas en términos de disponibilidad de bicicletas y espacios.\n"
      ]
    },
    {
      "cell_type": "code",
      "execution_count": null,
      "metadata": {
        "colab": {
          "base_uri": "https://localhost:8080/"
        },
        "id": "eNdey9_VDOjz",
        "outputId": "6e15298d-ee55-4d47-9d7a-5b7ace3094c2"
      },
      "outputs": [],
      "source": [
        "#Determina entre todas las estaciones qué estaciones están más cerca entre sí\n",
        "# geográficamente.\n",
        "\n",
        "from sklearn.neighbors import BallTree\n",
        "\n",
        "# Convertir las coordenadas de latitud y longitud a radianes\n",
        "Dataframe_final['lat_rad'] = np.radians(Dataframe_final['lat'])\n",
        "Dataframe_final['lon_rad'] = np.radians(Dataframe_final['lon'])\n",
        "\n",
        "# Crear una matriz de coordenadas\n",
        "coords = Dataframe_final[['lat_rad', 'lon_rad']].values\n",
        "\n",
        "# Crear un BallTree\n",
        "tree = BallTree(coords, metric='haversine')\n",
        "\n",
        "# Encontrar los vecinos más cercanos para cada punto\n",
        "distances, indices = tree.query(coords, k=2)\n",
        "\n",
        "# La distancia al vecino más cercano está en la segunda columna (índice 1)\n",
        "# ya que la primera columna (índice 0) es la distancia a sí mismo.\n",
        "Dataframe_final['nearest_distance'] = distances[:, 1]\n",
        "Dataframe_final['nearest_station'] = indices[:, 1]\n",
        "\n",
        "# Convertir la distancia de radianes a kilómetros\n",
        "earth_radius = 6371\n",
        "Dataframe_final['nearest_distance'] = Dataframe_final['nearest_distance'] * earth_radius\n",
        "\n",
        "# Encontrar las dos estaciones más cercanas entre sí\n",
        "min_distance = Dataframe_final['nearest_distance'].min()\n",
        "closest_stations = Dataframe_final[Dataframe_final['nearest_distance'] == min_distance]\n",
        "\n",
        "# Imprimir los resultados\n",
        "print(f\"Las dos estaciones más cercanas están a una distancia de {min_distance:.2f} km.\")\n",
        "print(closest_stations[['short_name', 'nearest_distance', 'nearest_station']])\n",
        "\n",
        "# Obtener los nombres de las estaciones más cercanas\n",
        "station1_index = closest_stations.index[0]\n",
        "station2_index = closest_stations['nearest_station'].iloc[0]\n",
        "station1_name = Dataframe_final['short_name'][station1_index]\n",
        "station2_name = Dataframe_final['short_name'][station2_index]\n",
        "\n",
        "print(f\"Las estaciones más cercanas son: {station1_name} y {station2_name}\")\n"
      ]
    },
    {
      "cell_type": "code",
      "execution_count": null,
      "metadata": {
        "id": "VDWgvUScDfaG"
      },
      "outputs": [],
      "source": [
        "#Determina cual es la estación más al oeste y la que está más al este\n",
        "\n",
        "# Encuentra la estación más al oeste (menor longitud)\n",
        "west_station = Dataframe_final[Dataframe_final['lon'] == Dataframe_final['lon'].min()]\n",
        "\n",
        "# Obtener la latitud y longitud de la estación más al oeste\n",
        "west_lat = west_station['lat'].values[0]\n",
        "west_lon = west_station['lon'].values[0]\n",
        "\n",
        "\n",
        "# Encuentra la estación más al este (mayor longitud)\n",
        "east_station = Dataframe_final[Dataframe_final['lon'] == Dataframe_final['lon'].max()]\n",
        "\n",
        "\n",
        "# Obtener la latitud y longitud de la estación más al este\n",
        "east_lat = east_station['lat'].values[0]\n",
        "east_lon = east_station['lon'].values[0]\n"
      ]
    },
    {
      "cell_type": "code",
      "execution_count": null,
      "metadata": {
        "colab": {
          "base_uri": "https://localhost:8080/",
          "height": 118
        },
        "id": "l_-bjO2czUKi",
        "outputId": "afe770f8-3c91-4fa1-9e97-caed742f565a"
      },
      "outputs": [],
      "source": [
        "east_station"
      ]
    },
    {
      "cell_type": "code",
      "execution_count": null,
      "metadata": {
        "colab": {
          "base_uri": "https://localhost:8080/",
          "height": 118
        },
        "id": "a6PYp1zoza8E",
        "outputId": "d8667aa3-9001-42f8-d37a-10df8cfbed46"
      },
      "outputs": [],
      "source": [
        "west_station"
      ]
    },
    {
      "cell_type": "code",
      "execution_count": null,
      "metadata": {
        "colab": {
          "base_uri": "https://localhost:8080/"
        },
        "id": "LvN5MIVRx0Z-",
        "outputId": "1d58ecab-0c14-4492-cfa0-0c25527315ee"
      },
      "outputs": [],
      "source": [
        "\n",
        "print(f\"La estación más al oeste está en la latitud {west_lat} y longitud {west_lon}\")\n",
        "print(f\"La estación más al este está en la latitud {east_lat} y longitud {east_lon}\")\n",
        "\n"
      ]
    },
    {
      "cell_type": "code",
      "execution_count": null,
      "metadata": {
        "id": "Y3vEMz92mYx7"
      },
      "outputs": [],
      "source": [
        "API_key = 'qZDURhuszLM8Zw-w-ab_KNerRoQ-O-3PBW9GwNOI8yM'\n",
        "modes =   ['bicycle', 'scooter', 'car']\n",
        "URLRH_base = 'https://router.hereapi.com/v8/routes?transportMode={Mode}&origin={lat_O},{lon_O}&destination={lat_D},{lon_D}&return=polyline,summary&apikey={APIkey}'"
      ]
    },
    {
      "cell_type": "code",
      "execution_count": null,
      "metadata": {
        "colab": {
          "base_uri": "https://localhost:8080/"
        },
        "id": "Z3qKA6W5nleB",
        "outputId": "6c4eadb1-4c4a-4f05-dbdc-1c5420f9b6ea"
      },
      "outputs": [],
      "source": [
        "Colors = ['red', 'blue', 'green']\n",
        "for i in range(len(modes)):\n",
        "    URLRH =  URLRH_base.format(Mode = modes[i], lat_O = west_lat, lon_O=west_lon, lat_D=east_lat, lon_D=east_lon, APIkey=API_key)\n",
        "    rRH = requests.get(URLRH)\n",
        "    #print('Ruta para: ', modes[i])\n",
        "    #rRH.json()\n",
        "    print(URLRH)\n",
        "    data = rRH.json()\n",
        "    route = data['routes'][0]['sections'][0]\n",
        "    duration_hours = route['summary']['duration']/3600\n",
        "    len_km = route['summary']['length']/1000\n",
        "    print('El viaje durará ',duration_hours,'horas y el recorrido será de: ', len_km)\n",
        "    mapa = folium.Map(location = [west_lat, west_lon], zoom_start=14, tiles='CartoDB positron')\n",
        "    folium.PolyLine(\n",
        "        locations = fp.decode( route['polyline']), color=Colors[i]\n",
        ").add_to(mapa)\n",
        "    mapa.save(f'mapa_{modes[i]}.html')\n",
        "    print('Mapa guardado como ' f'mapa_{modes[i]}.html')\n"
      ]
    },
    {
      "cell_type": "code",
      "execution_count": null,
      "metadata": {
        "colab": {
          "base_uri": "https://localhost:8080/",
          "height": 717
        },
        "id": "vfvWvkOA6bQR",
        "outputId": "56db43af-84e0-4cef-9166-8f15cdb71ccc"
      },
      "outputs": [],
      "source": [
        "# prompt: añade en un solo mapa las 3 rutas con distintos grosores de linea\n",
        "\n",
        "mapa = folium.Map(location = [west_lat, west_lon], zoom_start=14, tiles='CartoDB positron')\n",
        "grosores = [1, 10, 3]\n",
        "for i in range(len(modes)):\n",
        "  URLRH =  URLRH_base.format(Mode = modes[i], lat_O = west_lat, lon_O=west_lon, lat_D=east_lat, lon_D=east_lon, APIkey=API_key)\n",
        "  rRH = requests.get(URLRH)\n",
        "  data = rRH.json()\n",
        "  route = data['routes'][0]['sections'][0]\n",
        "\n",
        "  # Define el grosor de la línea según el modo de transporte\n",
        "  if modes[i] == 'bicycle':\n",
        "    weight = 3\n",
        "  elif modes[i] == 'scooter':\n",
        "    weight = 5\n",
        "  else:  # car\n",
        "    weight = 8\n",
        "\n",
        "  folium.PolyLine(\n",
        "      locations = fp.decode( route['polyline']), color=Colors[i], weight= grosores[i]\n",
        "  ).add_to(mapa)\n",
        "\n",
        "mapa\n"
      ]
    }
  ],
  "metadata": {
    "colab": {
      "provenance": []
    },
    "kernelspec": {
      "display_name": "Python 3",
      "name": "python3"
    },
    "language_info": {
      "codemirror_mode": {
        "name": "ipython",
        "version": 3
      },
      "file_extension": ".py",
      "mimetype": "text/x-python",
      "name": "python",
      "nbconvert_exporter": "python",
      "pygments_lexer": "ipython3",
      "version": "3.12.5"
    }
  },
  "nbformat": 4,
  "nbformat_minor": 0
}
